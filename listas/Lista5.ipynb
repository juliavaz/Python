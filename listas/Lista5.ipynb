{
  "nbformat": 4,
  "nbformat_minor": 0,
  "metadata": {
    "colab": {
      "name": "Lista5.ipynb",
      "provenance": [],
      "include_colab_link": true
    },
    "kernelspec": {
      "name": "python3",
      "display_name": "Python 3"
    }
  },
  "cells": [
    {
      "cell_type": "markdown",
      "metadata": {
        "id": "view-in-github",
        "colab_type": "text"
      },
      "source": [
        "<a href=\"https://colab.research.google.com/github/juliavaz/Python/blob/master/listas/Lista5.ipynb\" target=\"_parent\"><img src=\"https://colab.research.google.com/assets/colab-badge.svg\" alt=\"Open In Colab\"/></a>"
      ]
    },
    {
      "cell_type": "code",
      "metadata": {
        "id": "WWIFxb2pid97"
      },
      "source": [
        "# Disciplina: Probabilidade e Estatística\n",
        "# Aluno: Júlia Vaz Gomes\n",
        "# Lista 5 - Exercicio 1\n",
        "\n",
        "''' Uma amostra de gaúchos foi investigada em relação ao consumo de sal diário, obtendo-se o seguinte: Gaucho|Consumo(g) -> A-10 B-13 C-17 D-9 E-8 F-11 G-13 H-7 Escreva em python uma lista com os valores mostrados acima e calcule: \n",
        "a)média aritmética simples b)média harmônica c)média geométrica d)moda e)variância f)desvio padrão '''\n",
        "\n",
        "# importando bibliotecas para facilitar os calculos\n",
        "import statistics     \n",
        "from scipy.stats.mstats import gmean\n",
        "\n",
        "gaucho = [\"A\",\"B\",\"C\",\"D\",\"E\",\"F\",\"G\",\"H\"] # lista de valores dos gauchos\n",
        "consumo = [10,13,17,9,8,11,13,7]           # lista com todos os gramas de consumo\n",
        "\n",
        "print(\"Lista: \", consumo)  # imprimindo o conteúdo da lista\n",
        "\n",
        "mediaSimples = statistics.mean(consumo) # usando o mean para resolver a média aritmética simples\n",
        "mediaHarmonica = statistics.harmonic_mean(consumo) # usando o harmonic_mean para resolver a média harmônica dos dados\n",
        "mediaGeometrica = gmean(consumo)  # usando gmean para resolver a media geometrica \n",
        "moda = statistics.mode(consumo) # usando o mode para calcular a moda e descobrir o valor mais comum\n",
        "variancia = statistics.variance(consumo)   # usando variance para calcular a variancia \n",
        "desvioPadrao = statistics.stdev(consumo)  # usando stdev para calcular o desvio padrão, a raiz quadrada da variancia amostral\n",
        "\n",
        "print(\"a) Média aritmética simples: \", mediaSimples)\n",
        "print(\"b) Média harmônica: \", \"{:.5f}\".format(mediaHarmonica))   # formatando o valor final para 5 numero decimais \n",
        "print(\"c) Média geométrica: \", \"{:.5f}\".format(mediaGeometrica))   # formatando o valor final para 5 numero decimais \n",
        "print(\"d) Moda: \", moda)\n",
        "print(\"e) Variância: \", \"{:.5f}\".format(variancia))   # formatando o valor final para 5 numero decimais \n",
        "print(\"f) Desvio padrão: \", \"{:.5f}\".format(desvioPadrao))   # formatando o valor final para 5 numero decimais "
      ],
      "execution_count": null,
      "outputs": []
    },
    {
      "cell_type": "code",
      "metadata": {
        "colab": {
          "base_uri": "https://localhost:8080/"
        },
        "id": "QhjIMknWGioW",
        "outputId": "5e0ec73e-7285-4ed9-d17c-8630bc5a114a"
      },
      "source": [
        "# Disciplina: Probabilidade e Estatística\n",
        "# Aluno: Júlia Vaz Gomes\n",
        "# Lista 5 - Exercicio 2\n",
        "\n",
        "''' Os resultados baseados em uma escala de ansiedade para uma amostra de nove sujeitos são: 67 75 63 72 77 78 81 77 80. Escreva um python uma lista com os valores mostrados acima e calcule: \n",
        "a)média aritmética simples,harmônica e geométrica b)moda c)mediana d)variância e)desvio padrão '''\n",
        "\n",
        "# importando biblioteca para facilitar os calculos\n",
        "from scipy.stats.mstats import gmean\n",
        "import statistics    \n",
        "\n",
        "grauAnsiedade = [67, 75, 63, 72, 77, 78, 81, 77, 80]     # lista com todos os graus de ansiedade\n",
        "print(\"Lista: \", grauAnsiedade)   # imprimindo a lista completa\n",
        "\n",
        "mediaSimples = statistics.mean(grauAnsiedade) # usando o mean para resolver a média aritmética simples\n",
        "mediaHarmonica = statistics.harmonic_mean(grauAnsiedade) # usando o harmonic_mean para resolver a média harmônica dos dados\n",
        "mediaGeometrica = gmean(grauAnsiedade)  # usando gmean para resolver a media geometrica \n",
        "moda = statistics.mode(grauAnsiedade) # usando o mode para calcular a moda e descobrir o valor mais comum\n",
        "mediana = statistics.median(grauAnsiedade) # mediana (valor do meio) dos dados.\n",
        "variancia = statistics.variance(grauAnsiedade)   # usando variance para calcular a variancia \n",
        "desvioPadrao = statistics.stdev(grauAnsiedade)  # usando stdev para calcular o desvio padrão, a raiz quadrada da variancia amostral\n",
        "\n",
        "print(\"a) Média aritmética simples: \", \"{:.5f}\".format(mediaSimples),\" | Média harmônica: \", \"{:.5f}\".format(mediaHarmonica), \"| Média geométrica: \", \"{:.5f}\".format(mediaGeometrica))\n",
        "print(\"b) Moda: \", moda)\n",
        "print(\"c) Mediana: \", mediana) \n",
        "print(\"d) Variância: \", \"{:.5f}\".format(variancia))\n",
        "print(\"e) Desvio padrão: \", \"{:.5f}\".format(desvioPadrao))"
      ],
      "execution_count": 8,
      "outputs": [
        {
          "output_type": "stream",
          "text": [
            "Lista:  [67, 75, 63, 72, 77, 78, 81, 77, 80]\n",
            "a) Média aritmética simples:  74.44444  | Média harmônica:  73.97615 | Média geométrica:  74.21566\n",
            "b) Moda:  77\n",
            "c) Mediana:  77\n",
            "d) Variância:  36.52778\n",
            "e) Desvio padrão:  6.04382\n"
          ],
          "name": "stdout"
        }
      ]
    },
    {
      "cell_type": "code",
      "metadata": {
        "colab": {
          "base_uri": "https://localhost:8080/"
        },
        "id": "V8dCcYl9UJql",
        "outputId": "149431b2-41ec-4aa7-cc22-1dbf49b4458b"
      },
      "source": [
        "# Disciplina: Probabilidade e Estatística\n",
        "# Aluno: Júlia Vaz Gomes\n",
        "# Lista 5 - Exercicio 3\n",
        "\n",
        "''' Os dados em rol relacionados a seguir referem-se à produção diária de leite de vacas da raças Holandesa obtida em duas ordenhas. em kg.\n",
        "Calcule o coeficiente de variação desse conjunto de dados '''\n",
        "\n",
        "# importando biblioteca para facilitar os calculos\n",
        "import statistics\n",
        "\n",
        "leite = [4.0,4.5,5.0,5.0,5.0,5.5,6.0,6.0,6.5,6.5,6.5,\n",
        "         6.5,7.0,7.0,7.0,7.0,7.0,7.0,7.5,8.5,9.0,9.0,\n",
        "         9.0,9.5,10.0,10.0,10.5,10.5,11.0,12.0,12.5,13.0,13.0]\n",
        "\n",
        "print(\"Lista: \", leite)  # imprimindo a lista completa\n",
        "\n",
        "mediaSimples = statistics.mean(leite)  # usando gmean para resolver a media geometrica \n",
        "desvioPadrao = statistics.stdev(leite)  # usando stdev para calcular o desvio padrão, a raiz quadrada da variancia amostral\n",
        "CV = desvioPadrao/mediaSimples  # calculando o coeficiente da variação\n",
        "\n",
        "print('Média simples: ', mediaSimples)\n",
        "print('Desvio Padrão:', \"{:.5f}\".format(desvioPadrao))   # formatando o valor final para 5 numero decimais \n",
        "print(\"Coeficiente de variação: \", \"{:.5f}\".format(CV))   # formatando o valor final para 5 numero decimais "
      ],
      "execution_count": 9,
      "outputs": [
        {
          "output_type": "stream",
          "text": [
            "Lista:  [4.0, 4.5, 5.0, 5.0, 5.0, 5.5, 6.0, 6.0, 6.5, 6.5, 6.5, 6.5, 7.0, 7.0, 7.0, 7.0, 7.0, 7.0, 7.5, 8.5, 9.0, 9.0, 9.0, 9.5, 10.0, 10.0, 10.5, 10.5, 11.0, 12.0, 12.5, 13.0, 13.0]\n",
            "Média simples:  8.0\n",
            "Desvio Padrão: 2.53722\n",
            "Coeficiente de variação:  0.31715\n"
          ],
          "name": "stdout"
        }
      ]
    },
    {
      "cell_type": "code",
      "metadata": {
        "colab": {
          "base_uri": "https://localhost:8080/"
        },
        "id": "hnCXSVrSRbXs",
        "outputId": "4b46327b-ea94-4774-eaa2-e19af9a3adba"
      },
      "source": [
        "# Disciplina: Probabilidade e Estatística\n",
        "# Aluno: Júlia Vaz Gomes\n",
        "# Lista 5 - Exercicio 4\n",
        "\n",
        "''' A tabela seguinte apresenta a produção de café, em milhões de toneladas, na região DELTA; \n",
        "a) Calcule o valor da produção média b) Calcule o valor da mediana da produção c) Calcule o valor do desvio padrão da produção'''\n",
        "\n",
        "ordem = [1,2,3,4,5,6,7,8,9,10]   # valores da quantidade de dados\n",
        "ano = [1992,1993,1994,1995,1996,1997,1998,1999,2000,2001]    # lista que contém os anos mencionados \n",
        "toneladas = [12,15,18,22,17,14,18,23,29,12]   # toneladas mencionadas \n",
        "\n",
        "print(\"Nº | Ano  | Toneladas\")    # imprimindo uma tabela com os dados das listas criadas\n",
        "for i in range(0, len(ano), 1):   # laço de repetição que constrói a tabela com os dados das listas\n",
        "  print (f\"{ordem[i]}  | {ano[i]} | {toneladas[i]} \")\n",
        "\n",
        "mediaSimples = statistics.mean(toneladas)   # calculo para saber a média de produção\n",
        "mediana = statistics.median(toneladas)   # calculo para saber a mediana da produção\n",
        "desvioPadrao = statistics.stdev(toneladas)    # calculo para saber o desvio padrão de produção\n",
        "\n",
        "print('\\nValor da produção média: ', mediaSimples)\n",
        "print(\"Valor da mediana da produção: \", mediana) \n",
        "print('Desvio Padrão da produção:', \"{:.5f}\".format(desvioPadrao))   # dado impresso com 5 casas decimais após a virgula"
      ],
      "execution_count": 21,
      "outputs": [
        {
          "output_type": "stream",
          "text": [
            "Nº | Ano  | Toneladas\n",
            "1  | 1992 | 12 \n",
            "2  | 1993 | 15 \n",
            "3  | 1994 | 18 \n",
            "4  | 1995 | 22 \n",
            "5  | 1996 | 17 \n",
            "6  | 1997 | 14 \n",
            "7  | 1998 | 18 \n",
            "8  | 1999 | 23 \n",
            "9  | 2000 | 29 \n",
            "10  | 2001 | 12 \n",
            "\n",
            "Valor da produção média:  18\n",
            "Valor da mediana da produção:  17.5\n",
            "Desvio Padrão da produção: 5.37484\n"
          ],
          "name": "stdout"
        }
      ]
    },
    {
      "cell_type": "code",
      "metadata": {
        "colab": {
          "base_uri": "https://localhost:8080/"
        },
        "id": "1BRzuqjsVG7Q",
        "outputId": "c1a7c183-49c2-4bdc-fb2c-11dc5676ddb6"
      },
      "source": [
        "# Disciplina: Probabilidade e Estatística\n",
        "# Aluno: Júlia Vaz Gomes\n",
        "# Lista 5 - Exercicio 5\n",
        "\n",
        "''' Escreva em Python um algoritmo que solicite para o usuário inserir notas de alunos entre 0 e 10 em um loop infinito com condição de parada uma nota igual a -999.\n",
        "A cada iteração valide que a nota seja entre 0 e 10 e solicite uma nota correta em caso de erro. \n",
        "Após obter todas as notas, o programa deve mostrar: '''\n",
        "\n",
        "print(\"Para encerrar o programa insira o código -999\")   # mensagem para avisar como encerrar o programa a seguir\n",
        "\n",
        "notas = []   # lista que irá guardar as notas inseridas pelo usuário\n",
        "while True:  # enquanto a condição do if não for verdadeira continuará executando o código\n",
        "  num = float(input(' - Insira uma nota de 0 a 10: '))   # solicitando o numero para o usuário e guardando na lista notas\n",
        "  if(num == -999):    # se num for igual a -999 o programa se encerra\n",
        "    break\n",
        "\n",
        "  if (num >= 0 and num <= 10):   # validando se o numero inserindo pelo usuário esta entre 1 e 10\n",
        "    notas.append(num)            # add o numero inserido no ultimo lugar da lista notas\n",
        "  else:   # se não for de acordo com a condição citada irá informar e repetir o processo\n",
        "    print(\"Número fora do intervalo [0-10], tente novamente.\")\n",
        "    \n",
        "print(\"Você digitou o número -999, calculando resultados..\")    # informação para o usuário\n",
        "print(\"\\nNotas inseridas: \",notas)   # imprimindo todas as notas inseridas que estão dentro da lista de notas\n",
        "\n",
        "mediaSimples = statistics.mean(consumo) # usando o mean para resolver a média aritmética simples\n",
        "mediaHarmonica = statistics.harmonic_mean(consumo) # usando o harmonic_mean para resolver a média harmônica dos dados\n",
        "mediaGeometrica = gmean(consumo)   # usando gmean para resolver a media geometrica \n",
        "moda = statistics.mode(consumo) # usando o mode para calcular a moda e descobrir o valor mais comum\n",
        "variancia = statistics.variance(consumo)   # usando variance para calcular a variancia \n",
        "desvioPadrao = statistics.stdev(consumo)   # calculo para saber o desvio padrão de produção\n",
        "CV = desvioPadrao/mediaSimples # calculando o coeficiente da variação\n",
        "\n",
        "print(\"a) Média aritmética simples: \", mediaSimples)\n",
        "print(\"b) Média harmônica: \", round(mediaHarmonica,2))\n",
        "print(\"c) Média geométrica: \", round(mediaGeometrica,2))\n",
        "print(\"d) Moda: \", moda)\n",
        "print(\"e) Variância: \", round(variancia,2))   # formatando o valor final para 2 casas decimais \n",
        "print(\"f) Desvio padrão: \", round(desvioPadrao,2))    # formatando o valor final para 2 casas decimais \n",
        "print(\"g) Coeficiente de variância: \", round(CV,2))   # formatando o valor final para 2 casas decimais "
      ],
      "execution_count": 43,
      "outputs": [
        {
          "output_type": "stream",
          "text": [
            "Para encerrar o programa insira o código -999\n",
            " - Insira uma nota de 0 a 10: 1\n",
            " - Insira uma nota de 0 a 10: 10\n",
            " - Insira uma nota de 0 a 10: 5\n",
            " - Insira uma nota de 0 a 10: 3\n",
            " - Insira uma nota de 0 a 10: 11\n",
            "Número fora do intervalo [0-10], tente novamente.\n",
            " - Insira uma nota de 0 a 10: 13\n",
            "Número fora do intervalo [0-10], tente novamente.\n",
            " - Insira uma nota de 0 a 10: -999\n",
            "Você digitou o número -999, calculando resultados..\n",
            "\n",
            "Notas inseridas:  [1.0, 10.0, 5.0, 3.0]\n",
            "a) Média aritmética simples:  11\n",
            "b) Média harmônica:  10.22\n",
            "c) Média geométrica:  10.6\n",
            "d) Moda:  13\n",
            "e) Variância:  10.57\n",
            "f) Desvio padrão:  3.25\n",
            "g) Coeficiente de variância:  0.3\n"
          ],
          "name": "stdout"
        }
      ]
    },
    {
      "cell_type": "code",
      "metadata": {
        "colab": {
          "base_uri": "https://localhost:8080/"
        },
        "id": "TPa0EQxLRuea",
        "outputId": "077a6bae-448b-4f60-f1ec-25575ccb7e0f"
      },
      "source": [
        "# Disciplina: Probabilidade e Estatística\n",
        "# Aluno: Júlia Vaz Gomes\n",
        "# Lista 5 - Exercicio 5\n",
        "\n",
        "''' Escreva em Python um algoritmo que solicite para o usuário inserir 3 notas de um aluno (entre 0 e 10). \n",
        "O programa deve calcular a média ponderada com os pesos 3, 4 e 3 para as três notas recebidas.'''\n",
        "\n",
        "pesos = [3,4,3]     # inserindo os pesos na lista\n",
        "notas = []          # criando uma lista vazia\n",
        "for _ in range(3):     # limitando a entrada de dados para apenas 3 notas serem inseridas\n",
        "  while True:       # enquanto estiver no intervalo de 0-1 continuará o processo \n",
        "    nota = float(input(\"Insira a nota do aluno: \"))    # pegando o dado do usuario\n",
        "    if nota >= 0 and nota <= 10:    # validação da entrada do usuario, se a nota está entre 0 e 10\n",
        "      notas.append(nota)    #  add a nota inserida no ultimo lugar da lista\n",
        "      break  \n",
        "    else:    # se não estiver entre 0 e 10 solicitará novamente\n",
        "      print(\"Insira uma nota entre 0 e 10\")\n",
        "        \n",
        "print(\"Notas inseridas: \",notas)   # imprime as notas inseridas pelo usuario\n",
        "\n",
        "nota = notas[0]*notas[1]*notas[2]   # calculo das notas\n",
        "denominador = sum(pesos)            # calculo do denominador\n",
        "mediaPonderada = nota/denominador   # calculando a media ponderada\n",
        "\n",
        "print(\"\\nA média ponderada das notas iseridas é: \",round(mediaPonderada,2))  # formatando o valor final para 2 casas decimais "
      ],
      "execution_count": 4,
      "outputs": [
        {
          "output_type": "stream",
          "text": [
            "Insira a nota do aluno: 6.5\n",
            "Insira a nota do aluno: 7\n",
            "Insira a nota do aluno: 5\n",
            "Notas inseridas:  [6.5, 7.0, 5.0]\n",
            "\n",
            "A média ponderada das notas iseridas é:  22.75\n"
          ],
          "name": "stdout"
        }
      ]
    }
  ]
}