{
  "nbformat": 4,
  "nbformat_minor": 0,
  "metadata": {
    "colab": {
      "name": "Lista5.ipynb",
      "provenance": [],
      "authorship_tag": "ABX9TyNWE0M4kQm5hNG7dBU3whb5",
      "include_colab_link": true
    },
    "kernelspec": {
      "name": "python3",
      "display_name": "Python 3"
    }
  },
  "cells": [
    {
      "cell_type": "markdown",
      "metadata": {
        "id": "view-in-github",
        "colab_type": "text"
      },
      "source": [
        "<a href=\"https://colab.research.google.com/github/juliavaz/Python/blob/master/Lista5.ipynb\" target=\"_parent\"><img src=\"https://colab.research.google.com/assets/colab-badge.svg\" alt=\"Open In Colab\"/></a>"
      ]
    },
    {
      "cell_type": "code",
      "metadata": {
        "colab": {
          "base_uri": "https://localhost:8080/"
        },
        "id": "WWIFxb2pid97",
        "outputId": "1350a33a-43c9-4da9-a153-721fb9911cb0"
      },
      "source": [
        "# Disciplina: Probabilidade e Estatística\n",
        "# Aluno: Júlia Vaz Gomes\n",
        "# Lista 5 - Exercicio 1\n",
        "\n",
        "''' Uma amostra de gaúchos foi investigada em relação ao consumo de sal diário, obtendo-se o seguinte: Gaucho|Consumo(g) -> A-10 B-13 C-17 D-9 E-8 F-11 G-13 H-7 Escreva em python uma lista com os valores mostrados acima e calcule: \n",
        "a)média aritmética simples b)média harmônica c)média geométrica d)moda e)variância f)desvio padrão '''\n",
        "\n",
        "import statistics     # importando biblioteca para facilitar os calculos\n",
        "\n",
        "gaucho = [\"A\",\"B\",\"C\",\"D\",\"E\",\"F\",\"G\",\"H\"] # lista de valores dos gauchos\n",
        "consumo = [10,13,17,9,8,11,13,7]           # lista com todos os gramas de consumo\n",
        "\n",
        "mediaSimples = statistics.mean(consumo) # usando o mean para resolver a média aritmética simples\n",
        "mediaHarmonica = statistics.harmonic_mean(consumo) # usando o harmonic_mean para resolver a média harmônica dos dados\n",
        "mediaGeometrica = 0\n",
        "moda = statistics.mode(consumo) # usando o mode para calcular a moda e descobrir o valor mais comum\n",
        "variancia = statistics.variance(consumo)\n",
        "desvioPadrao = statistics.stdev(consumo)\n",
        "\n",
        "print(\"Média aritmética simples: \", mediaSimples)\n",
        "print(\"Média harmônica: \", mediaHarmonica)\n",
        "print(\"Média geométrica: \", mediaGeometrica)\n",
        "print(\"Moda: \", moda)\n",
        "print(\"Variância: \", variancia)\n",
        "print(\"Desvio padrão: \", desvioPadrao)\n"
      ],
      "execution_count": 32,
      "outputs": [
        {
          "output_type": "stream",
          "text": [
            "Média aritmética simples:  11\n",
            "Média harmônica:  10.223027770053966\n",
            "Média geométrica:  0\n",
            "Moda:  13\n",
            "Variância:  10.571428571428571\n",
            "Desvio padrão:  3.251373336211726\n"
          ],
          "name": "stdout"
        }
      ]
    }
  ]
}