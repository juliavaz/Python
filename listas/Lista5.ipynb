{
  "nbformat": 4,
  "nbformat_minor": 0,
  "metadata": {
    "colab": {
      "name": "Lista5.ipynb",
      "provenance": [],
      "include_colab_link": true
    },
    "kernelspec": {
      "name": "python3",
      "display_name": "Python 3"
    }
  },
  "cells": [
    {
      "cell_type": "markdown",
      "metadata": {
        "id": "view-in-github",
        "colab_type": "text"
      },
      "source": [
        "<a href=\"https://colab.research.google.com/github/juliavaz/Python/blob/master/listas/Lista5.ipynb\" target=\"_parent\"><img src=\"https://colab.research.google.com/assets/colab-badge.svg\" alt=\"Open In Colab\"/></a>"
      ]
    },
    {
      "cell_type": "code",
      "metadata": {
        "id": "WWIFxb2pid97"
      },
      "source": [
        "# Disciplina: Probabilidade e Estatística\n",
        "# Aluno: Júlia Vaz Gomes\n",
        "# Lista 5 - Exercicio 1\n",
        "\n",
        "''' Uma amostra de gaúchos foi investigada em relação ao consumo de sal diário, obtendo-se o seguinte: Gaucho|Consumo(g) -> A-10 B-13 C-17 D-9 E-8 F-11 G-13 H-7 Escreva em python uma lista com os valores mostrados acima e calcule: \n",
        "a)média aritmética simples b)média harmônica c)média geométrica d)moda e)variância f)desvio padrão '''\n",
        "\n",
        "import statistics     # importando biblioteca para facilitar os calculos\n",
        "from scipy.stats.mstats import gmean\n",
        "\n",
        "gaucho = [\"A\",\"B\",\"C\",\"D\",\"E\",\"F\",\"G\",\"H\"] # lista de valores dos gauchos\n",
        "consumo = [10,13,17,9,8,11,13,7]           # lista com todos os gramas de consumo\n",
        "\n",
        "mediaSimples = statistics.mean(consumo) # usando o mean para resolver a média aritmética simples\n",
        "print(\"a) Média aritmética simples: \", mediaSimples)\n",
        "\n",
        "mediaHarmonica = statistics.harmonic_mean(consumo) # usando o harmonic_mean para resolver a média harmônica dos dados\n",
        "print(\"b) Média harmônica: \", \"{:.5f}\".format(mediaHarmonica))\n",
        "\n",
        "mediaGeometrica = gmean(consumo)\n",
        "print(\"c) Média geométrica: \", \"{:.5f}\".format(mediaGeometrica))\n",
        "\n",
        "moda = statistics.mode(consumo) # usando o mode para calcular a moda e descobrir o valor mais comum\n",
        "print(\"d) Moda: \", moda)\n",
        "\n",
        "variancia = statistics.variance(consumo)\n",
        "print(\"e) Variância: \", \"{:.5f}\".format(variancia))\n",
        "\n",
        "desvioPadrao = statistics.stdev(consumo)\n",
        "print(\"f) Desvio padrão: \", \"{:.5f}\".format(desvioPadrao))"
      ],
      "execution_count": null,
      "outputs": []
    },
    {
      "cell_type": "code",
      "metadata": {
        "id": "QhjIMknWGioW"
      },
      "source": [
        "# Disciplina: Probabilidade e Estatística\n",
        "# Aluno: Júlia Vaz Gomes\n",
        "# Lista 5 - Exercicio 2\n",
        "\n",
        "''' Os resultados baseados em uma escala de ansiedade para uma amostra de nove sujeitos são: 67 75 63 72 77 78 81 77 80. Escreva um python uma lista com os valores mostrados acima e calcule: \n",
        "a)média aritmética simples,harmônica e geométrica b)moda c)mediana d)variância e)desvio padrão '''\n",
        "\n",
        "from scipy.stats.mstats import gmean\n",
        "import statistics     # importando biblioteca para facilitar os calculos\n",
        "\n",
        "grauAnsiedade = [67, 75, 63, 72, 77, 78, 81, 77, 80]           # lista com todos os graus de ansiedade\n",
        "\n",
        "mediaSimples = statistics.mean(grauAnsiedade) # usando o mean para resolver a média aritmética simples\n",
        "mediaHarmonica = statistics.harmonic_mean(grauAnsiedade) # usando o harmonic_mean para resolver a média harmônica dos dados\n",
        "mediaGeometrica = gmean(grauAnsiedade)\n",
        "print(\"a) Média aritmética simples: \", \"{:.5f}\".format(mediaSimples),\" | Média harmônica: \", \"{:.5f}\".format(mediaHarmonica), \"| Média geométrica: \", \"{:.5f}\".format(mediaGeometrica))\n",
        "\n",
        "print(\"b) Moda: \", moda)\n",
        "moda = statistics.mode(grauAnsiedade) # usando o mode para calcular a moda e descobrir o valor mais comum\n",
        "\n",
        "print(\"c) Mediana: \", mediana) \n",
        "mediana = statistics.median(grauAnsiedade) # mediana (valor do meio) dos dados.\n",
        "\n",
        "print(\"d) Variância: \", \"{:.5f}\".format(variancia))\n",
        "variancia = statistics.variance(grauAnsiedade)\n",
        "\n",
        "print(\"e) Desvio padrão: \", \"{:.5f}\".format(desvioPadrao))\n",
        "desvioPadrao = statistics.stdev(grauAnsiedade)"
      ],
      "execution_count": null,
      "outputs": []
    },
    {
      "cell_type": "code",
      "metadata": {
        "id": "V8dCcYl9UJql"
      },
      "source": [
        "# Disciplina: Probabilidade e Estatística\n",
        "# Aluno: Júlia Vaz Gomes\n",
        "# Lista 5 - Exercicio 3\n",
        "\n",
        "''' Os dados em rol relacionados a seguir referem-se à produção diária de leite de vacas da raças Holandesa obtida em duas ordenhas. em kg.\n",
        "Calcule o coeficiente de variação desse conjunto de dados '''\n",
        "\n",
        "# importando biblioteca para facilitar os calculos\n",
        "import statistics\n",
        "\n",
        "leite = [4.0,4.5,5.0,5.0,5.0,5.5,6.0,6.0,6.5,6.5,6.5,\n",
        "         6.5,7.0,7.0,7.0,7.0,7.0,7.0,7.5,8.5,9.0,9.0,\n",
        "         9.0,9.5,10.0,10.0,10.5,10.5,11.0,12.0,12.5,13.0,13.0]\n",
        "\n",
        "mediaSimples = statistics.mean(leite)\n",
        "print('Média simples: ', mediaSimples)\n",
        "\n",
        "desvioPadrao = statistics.stdev(leite)\n",
        "print('Desvio Padrão:', \"{:.5f}\".format(desvioPadrao))\n",
        "\n",
        "CV = desvioPadrao/mediaSimples\n",
        "print(\"Coeficiente de variação: \", \"{:.5f}\".format(CV))"
      ],
      "execution_count": null,
      "outputs": []
    }
  ]
}