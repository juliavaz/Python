{
  "nbformat": 4,
  "nbformat_minor": 0,
  "metadata": {
    "colab": {
      "name": "Lista6.ipynb",
      "provenance": [],
      "include_colab_link": true
    },
    "kernelspec": {
      "name": "python3",
      "display_name": "Python 3"
    }
  },
  "cells": [
    {
      "cell_type": "markdown",
      "metadata": {
        "id": "view-in-github",
        "colab_type": "text"
      },
      "source": [
        "<a href=\"https://colab.research.google.com/github/juliavaz/Python/blob/master/Lista6.ipynb\" target=\"_parent\"><img src=\"https://colab.research.google.com/assets/colab-badge.svg\" alt=\"Open In Colab\"/></a>"
      ]
    },
    {
      "cell_type": "code",
      "metadata": {
        "id": "oDc6nnRTYozJ",
        "colab": {
          "base_uri": "https://localhost:8080/"
        },
        "outputId": "1be9ef14-11c5-46c1-a33e-b5e4a1781f55"
      },
      "source": [
        "# Disciplina: Probabilidade e Estatística\n",
        "# Aluno: Júlia Vaz Gomes\n",
        "# Lista 6 - Exercicio 1\n",
        "\n",
        "# importando biblioteca para facilitar no desenvolvimento\n",
        "import pandas as pd\n",
        "\n",
        "# lista com os dados de valores de aptidão, separados por listas de cada materia\n",
        "valoresMatematica = [60, 58, 73, 51, 54, 75, 48, 72, 75, 83, 62, 52] # matematica\n",
        "valoresMusica = [80, 62, 70, 83, 62, 92, 79, 88, 54, 82, 64, 69]     # musica\n",
        "\n",
        "data = {'Matemática': valoresMatematica, 'Música': valoresMusica} \n",
        "df = pd.DataFrame(data,columns=['Matemática', 'Música'])\n",
        "coeficiente = df.corr()\n",
        "\n",
        "# dados impressos com os coeficientes de correlacao entre as materias\n",
        "print(coeficiente)"
      ],
      "execution_count": 6,
      "outputs": [
        {
          "output_type": "stream",
          "text": [
            "            Matemática    Música\n",
            "Matemática    1.000000  0.169146\n",
            "Música        0.169146  1.000000\n"
          ],
          "name": "stdout"
        }
      ]
    },
    {
      "cell_type": "code",
      "metadata": {
        "id": "w62lSsvsVdfV"
      },
      "source": [
        "# Disciplina: Probabilidade e Estatística\n",
        "# Aluno: Júlia Vaz Gomes\n",
        "# Lista 6 - Exercicio 2\n",
        "\n",
        "''' Resposta: \n",
        "  Para o valor de r abaixo de 0,3 como nesse caso, pode se dizer que a correlação é despresível, ou seja, os dados não estão relacionados de nenhuma forma\n",
        "'''"
      ],
      "execution_count": null,
      "outputs": []
    },
    {
      "cell_type": "code",
      "metadata": {
        "colab": {
          "base_uri": "https://localhost:8080/"
        },
        "id": "l_VKhjV9AGVz",
        "outputId": "eb3f9e10-af4f-4c91-8a1c-f1b31f1e84cf"
      },
      "source": [
        "# Disciplina: Probabilidade e Estatística\n",
        "# Aluno: Júlia Vaz Gomes\n",
        "# Lista 6 - Exercicio 3\n",
        "\n",
        "# importando biblioteca para facilitar os calculos\n",
        "import pandas as pd\n",
        "\n",
        "# dados passados no enunciado da questão\n",
        "anos = [2,3,4,5,4,6,7,8,8,10]\n",
        "clientes = [48,50,56,52,43,60,62,58,64,72]\n",
        "\n",
        "# montando matriz \n",
        "dados = {'Anos de Serviço': anos, 'Nº de clientes': clientes} \n",
        "df = pd.DataFrame(dados,columns=['Anos de Serviço', 'Nº de clientes'])\n",
        "coeficiente = df.corr()\n",
        "\n",
        "# imprimindo coeficiente\n",
        "print(coeficiente)"
      ],
      "execution_count": 5,
      "outputs": [
        {
          "output_type": "stream",
          "text": [
            "                 Anos de Serviço  Nº de clientes\n",
            "Anos de Serviço         1.000000        0.876795\n",
            "Nº de clientes          0.876795        1.000000\n"
          ],
          "name": "stdout"
        }
      ]
    },
    {
      "cell_type": "code",
      "metadata": {
        "colab": {
          "base_uri": "https://localhost:8080/"
        },
        "id": "foiLl-6xXkmK",
        "outputId": "1b96a3f9-3455-4f0e-ea76-d8591e94e02f"
      },
      "source": [
        "# Disciplina: Probabilidade e Estatística\n",
        "# Aluno: Júlia Vaz Gomes\n",
        "# Lista 6 - Exercicio 4\n",
        "\n",
        "# importando biblioteca para facilitar os calculos\n",
        "import pandas as pd\n",
        "\n",
        "# lista com os dados pedidos na questão\n",
        "x = [12,16,18,20,28,30,40,48,50,54]\n",
        "y = [7.2,7.4,7.0,6.5,6.6,6.7,6.0,5.6,6.0,5.5]\n",
        "\n",
        "# montando a matriz\n",
        "dados = {'Renda Bruta Mensal': x, '% da Renda Bruta Anual': y} \n",
        "df = pd.DataFrame(dados,columns=['Renda Bruta Mensal', '% da Renda Bruta Anual'])\n",
        "coeficiente = df.corr()\n",
        "\n",
        "# imprimindo o coeficiente\n",
        "print(coeficiente)"
      ],
      "execution_count": 3,
      "outputs": [
        {
          "output_type": "stream",
          "text": [
            "                        Renda Bruta Mensal  % da Renda Bruta Anual\n",
            "Renda Bruta Mensal                1.000000               -0.940463\n",
            "% da Renda Bruta Anual           -0.940463                1.000000\n"
          ],
          "name": "stdout"
        }
      ]
    },
    {
      "cell_type": "code",
      "metadata": {
        "colab": {
          "base_uri": "https://localhost:8080/"
        },
        "id": "1Mv-Z_JYXr_d",
        "outputId": "f370dc37-c174-4fd6-b134-1f96e9127b15"
      },
      "source": [
        "# Disciplina: Probabilidade e Estatística\n",
        "# Aluno: Júlia Vaz Gomes\n",
        "# Lista 6 - Exercicio 5\n",
        "\n",
        "''' Os quatro conjuntos de dados a seguir foram preparados pelo estatístico F. J. Anscombe e são usados com frequência em aulas sobre correlação. '''\n",
        "\n",
        "# importando biblioteca para facilitar os calculos\n",
        "import statistics\n",
        "import pandas as pd\n",
        "\n",
        "# padrão da lista de conjuntos [ 0[x , y], 1[x , y], 2[x , y], 3[x , y] ]\n",
        "conjuntos = [\n",
        "    [ [10,8,13,9,11,14,6,4,12,7,5], [8.04,6.95,7.58,8.81,8.33,9.96,7.24,4.26,10.84,4.82,5.68] ],\n",
        "    [ [10,8,13,9,11,14,6,4,12,7,5], [9.14,8.14,8.74,8.77,9.26,8.10,6.13,3.10,9.13,7.26,4.74] ],\n",
        "    [ [10,8,13,9,11,14,6,4,12,7,5], [7.46,6.77,12.74,7.11,7.81,8.84,6.08,5.39,8.15,6.42,5.73] ],\n",
        "    [ [8,8,8,8,8,8,8,19,8,8,8], [6.58,5.76,7.71,8.84,8.47,7.04,5.25,12.50,5.56,7.91,6.89] ],\n",
        "]\n",
        "\n",
        "# usando gmean para resolver a media geometrica \n",
        "mediaSimplesConjunto1X = statistics.mean(conjuntos[0][0]) \n",
        "mediaSimplesConjunto1Y = statistics.mean(conjuntos[0][1])   \n",
        "mediaSimplesConjunto2X = statistics.mean(conjuntos[1][0])   \n",
        "mediaSimplesConjunto2Y = statistics.mean(conjuntos[1][1])   \n",
        "mediaSimplesConjunto3X = statistics.mean(conjuntos[2][0])   \n",
        "mediaSimplesConjunto3Y = statistics.mean(conjuntos[2][1])   \n",
        "mediaSimplesConjunto4X = statistics.mean(conjuntos[3][0])   \n",
        "mediaSimplesConjunto4Y = statistics.mean(conjuntos[3][1]) \n",
        "\n",
        "# usando stdev para calcular o desvio padrão, a raiz quadrada da variancia amostral   \n",
        "desvioPadraoConjunto1X = statistics.stdev(conjuntos[0][0])  \n",
        "desvioPadraoConjunto1Y = statistics.stdev(conjuntos[0][1])   \n",
        "desvioPadraoConjunto2X = statistics.stdev(conjuntos[1][0])   \n",
        "desvioPadraoConjunto2Y = statistics.stdev(conjuntos[1][1])   \n",
        "desvioPadraoConjunto3X = statistics.stdev(conjuntos[2][0])   \n",
        "desvioPadraoConjunto3Y = statistics.stdev(conjuntos[2][1])   \n",
        "desvioPadraoConjunto4X = statistics.stdev(conjuntos[3][0])   \n",
        "desvioPadraoConjunto4Y = statistics.stdev(conjuntos[3][1]) \n",
        "\n",
        "# imprimindo as médias\n",
        "print('Média simples Conjunto 1 ( X:', mediaSimplesConjunto1X, ' e Y:',round(mediaSimplesConjunto1Y,8), ')')\n",
        "print('Média simples Conjunto 2 ( X:', mediaSimplesConjunto2X, ' e Y:',round(mediaSimplesConjunto2Y,8), ')')\n",
        "print('Média simples Conjunto 3 ( X:', mediaSimplesConjunto3X, ' e Y:',round(mediaSimplesConjunto3Y,8), ')')\n",
        "print('Média simples Conjunto 4 ( X:', mediaSimplesConjunto4X, ' e Y:',round(mediaSimplesConjunto4Y,8), ')','\\n')\n",
        "\n",
        "# imprimindo os desvios\n",
        "print('Devio Padrão Conjunto 1 ( X:', desvioPadraoConjunto1X, ' e Y:',round(desvioPadraoConjunto1Y,8), ')')\n",
        "print('Devio Padrão Conjunto 2 ( X:', desvioPadraoConjunto2X, ' e Y:',round(desvioPadraoConjunto2Y,8), ')')\n",
        "print('Devio Padrão Conjunto 3 ( X:', desvioPadraoConjunto3X, ' e Y:',round(desvioPadraoConjunto3Y,8), ')')\n",
        "print('Devio Padrão Conjunto 4 ( X:', desvioPadraoConjunto4X, ' e Y:',round(desvioPadraoConjunto4Y,8), ')','\\n')\n",
        "\n",
        "# montando a matriz e imprimindo o coeficiente do conjunto 1\n",
        "dados = {'Conjunto 1 X': conjuntos[0][0], 'Conjunto 1 Y': conjuntos[0][1] } \n",
        "df = pd.DataFrame(dados,columns=['Conjunto 1 X', 'Conjunto 1 Y'])\n",
        "coeficienteConjunto1 = df.corr()\n",
        "print(coeficienteConjunto1,'\\n')\n",
        "\n",
        "# montando a matriz e imprimindo o coeficiente do conjunto 2\n",
        "dados = {'Conjunto 2 X': conjuntos[1][0], 'Conjunto 2 Y': conjuntos[1][1] } \n",
        "df = pd.DataFrame(dados,columns=['Conjunto 2 X', 'Conjunto 2 Y'])\n",
        "coeficienteConjunto2 = df.corr()\n",
        "print(coeficienteConjunto2,'\\n')\n",
        "\n",
        "# montando a matriz e imprimindo o coeficiente do conjunto 3\n",
        "dados = {'Conjunto 3 X': conjuntos[2][0], 'Conjunto 3 Y': conjuntos[2][1] } \n",
        "df = pd.DataFrame(dados,columns=['Conjunto 3 X', 'Conjunto 3 Y'])\n",
        "coeficienteConjunto3 = df.corr()\n",
        "print(coeficienteConjunto3,'\\n')\n",
        "\n",
        "# montando a matriz e imprimindo o coeficiente do conjunto 4\n",
        "dados = {'Conjunto 4 X': conjuntos[3][0], 'Conjunto 4 Y': conjuntos[3][1] } \n",
        "df = pd.DataFrame(dados,columns=['Conjunto 4 X', 'Conjunto 4 Y'])\n",
        "coeficienteConjunto4 = df.corr()\n",
        "print(coeficienteConjunto4,'\\n')"
      ],
      "execution_count": 6,
      "outputs": [
        {
          "output_type": "stream",
          "text": [
            "Média simples Conjunto 1 ( X: 9  e Y: 7.50090909 )\n",
            "Média simples Conjunto 2 ( X: 9  e Y: 7.50090909 )\n",
            "Média simples Conjunto 3 ( X: 9  e Y: 7.5 )\n",
            "Média simples Conjunto 4 ( X: 9  e Y: 7.50090909 ) \n",
            "\n",
            "Devio Padrão Conjunto 1 ( X: 3.3166247903554  e Y: 2.03156814 )\n",
            "Devio Padrão Conjunto 2 ( X: 3.3166247903554  e Y: 2.03165674 )\n",
            "Devio Padrão Conjunto 3 ( X: 3.3166247903554  e Y: 2.0304236 )\n",
            "Devio Padrão Conjunto 4 ( X: 3.3166247903554  e Y: 2.03057851 ) \n",
            "\n",
            "              Conjunto 1 X  Conjunto 1 Y\n",
            "Conjunto 1 X      1.000000      0.816421\n",
            "Conjunto 1 Y      0.816421      1.000000 \n",
            "\n",
            "              Conjunto 2 X  Conjunto 2 Y\n",
            "Conjunto 2 X      1.000000      0.816237\n",
            "Conjunto 2 Y      0.816237      1.000000 \n",
            "\n",
            "              Conjunto 3 X  Conjunto 3 Y\n",
            "Conjunto 3 X      1.000000      0.816287\n",
            "Conjunto 3 Y      0.816287      1.000000 \n",
            "\n",
            "              Conjunto 4 X  Conjunto 4 Y\n",
            "Conjunto 4 X      1.000000      0.816521\n",
            "Conjunto 4 Y      0.816521      1.000000 \n",
            "\n"
          ],
          "name": "stdout"
        }
      ]
    },
    {
      "cell_type": "code",
      "metadata": {
        "colab": {
          "base_uri": "https://localhost:8080/"
        },
        "id": "EHJyVwxmX8Uq",
        "outputId": "8704d894-7980-4ba1-d994-f504ec2bea6b"
      },
      "source": [
        "# Disciplina: Probabilidade e Estatística\n",
        "# Aluno: Júlia Vaz Gomes\n",
        "# Lista 6 - Exercicio 6\n",
        "\n",
        "# importando biblioteca para facilitar os calculos\n",
        "import pandas as pd\n",
        "\n",
        "# listas com os dados\n",
        "produtividade = [100,102,105,108,112,120]\n",
        "alimentacao = [4,5,1,3,6,2]\n",
        "exercicios = [1,3,2,4,5,6]\n",
        "rodizio = [3,1,2,6,4,5]\n",
        "\n",
        "# montando matriz dos coeficiente de todos os dados \n",
        "dados = {'Produtividade': produtividade, 'Alimentação': alimentacao, 'Exercícios': exercicios, 'Rodizio': rodizio} \n",
        "df = pd.DataFrame(dados,columns=['Produtividade', 'Alimentação', 'Exercícios', 'Rodizio'])\n",
        "coeficiente = df.corr()\n",
        "\n",
        "# imprimindo o coeficiente\n",
        "print(coeficiente)"
      ],
      "execution_count": 7,
      "outputs": [
        {
          "output_type": "stream",
          "text": [
            "               Produtividade  Alimentação  Exercícios   Rodizio\n",
            "Produtividade       1.000000    -0.196822    0.925791  0.634204\n",
            "Alimentação        -0.196822     1.000000    0.085714 -0.142857\n",
            "Exercícios          0.925791     0.085714    1.000000  0.600000\n",
            "Rodizio             0.634204    -0.142857    0.600000  1.000000\n"
          ],
          "name": "stdout"
        }
      ]
    }
  ]
}