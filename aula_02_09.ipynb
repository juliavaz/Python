{
  "nbformat": 4,
  "nbformat_minor": 0,
  "metadata": {
    "colab": {
      "name": "aula-02-09.ipynb",
      "provenance": [],
      "authorship_tag": "ABX9TyOLzat4edSk6/LvjYPnXrRx",
      "include_colab_link": true
    },
    "kernelspec": {
      "name": "python3",
      "display_name": "Python 3"
    }
  },
  "cells": [
    {
      "cell_type": "markdown",
      "metadata": {
        "id": "view-in-github",
        "colab_type": "text"
      },
      "source": [
        "<a href=\"https://colab.research.google.com/github/juliavaz/Python/blob/master/aula_02_09.ipynb\" target=\"_parent\"><img src=\"https://colab.research.google.com/assets/colab-badge.svg\" alt=\"Open In Colab\"/></a>"
      ]
    },
    {
      "cell_type": "code",
      "metadata": {
        "id": "u1bf4vNb-wwB",
        "colab_type": "code",
        "colab": {
          "base_uri": "https://localhost:8080/",
          "height": 34
        },
        "outputId": "3a8c98ee-104c-40d1-f193-dd2394943f30"
      },
      "source": [
        "# Manipulando os dados com os próprios valores da lista\n",
        "L1 = ['Teste 1', 10, 5, [10,11,12] ]\n",
        "\n",
        "L1[1] = L1[1]*L1[2]\n",
        "\n",
        "print(L1)"
      ],
      "execution_count": 5,
      "outputs": [
        {
          "output_type": "stream",
          "text": [
            "['Teste 1', 50, 5, [10, 11, 12]]\n"
          ],
          "name": "stdout"
        }
      ]
    }
  ]
}