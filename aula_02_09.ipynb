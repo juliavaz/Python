{
  "nbformat": 4,
  "nbformat_minor": 0,
  "metadata": {
    "colab": {
      "name": "aula-02-09.ipynb",
      "provenance": [],
      "authorship_tag": "ABX9TyNFG9DXty7IKuwld9m2coXg",
      "include_colab_link": true
    },
    "kernelspec": {
      "name": "python3",
      "display_name": "Python 3"
    }
  },
  "cells": [
    {
      "cell_type": "markdown",
      "metadata": {
        "id": "view-in-github",
        "colab_type": "text"
      },
      "source": [
        "<a href=\"https://colab.research.google.com/github/juliavaz/Python/blob/master/aula_02_09.ipynb\" target=\"_parent\"><img src=\"https://colab.research.google.com/assets/colab-badge.svg\" alt=\"Open In Colab\"/></a>"
      ]
    },
    {
      "cell_type": "code",
      "metadata": {
        "id": "u1bf4vNb-wwB",
        "colab_type": "code",
        "colab": {
          "base_uri": "https://localhost:8080/",
          "height": 34
        },
        "outputId": "3a8c98ee-104c-40d1-f193-dd2394943f30"
      },
      "source": [
        "# Manipulando os dados com os próprios valores da lista\n",
        "L1 = ['Teste 1', 10, 5, [10,11,12] ]\n",
        "\n",
        "L1[1] = L1[1]*L1[2]\n",
        "\n",
        "print(L1)"
      ],
      "execution_count": 5,
      "outputs": [
        {
          "output_type": "stream",
          "text": [
            "['Teste 1', 50, 5, [10, 11, 12]]\n"
          ],
          "name": "stdout"
        }
      ]
    },
    {
      "cell_type": "code",
      "metadata": {
        "id": "Co0ZkBKMCQ_E",
        "colab_type": "code",
        "colab": {
          "base_uri": "https://localhost:8080/",
          "height": 54
        },
        "outputId": "7a83bb0e-b844-495c-f847-569eb39299da"
      },
      "source": [
        "# Imprimindo String com Int\n",
        "L1 = ['Teste 1', 10, 5, [10,11,12] ]\n",
        "X = L1[0] * L1[1]\n",
        "print(X)"
      ],
      "execution_count": 10,
      "outputs": [
        {
          "output_type": "stream",
          "text": [
            "Teste 1Teste 1Teste 1Teste 1Teste 1Teste 1Teste 1Teste 1Teste 1Teste 1Teste 1Teste 1Teste 1Teste 1Teste 1Teste 1Teste 1Teste 1Teste 1Teste 1Teste 1Teste 1Teste 1Teste 1Teste 1Teste 1Teste 1Teste 1Teste 1Teste 1Teste 1Teste 1Teste 1Teste 1Teste 1Teste 1Teste 1Teste 1Teste 1Teste 1Teste 1Teste 1Teste 1Teste 1Teste 1Teste 1Teste 1Teste 1Teste 1Teste 1\n"
          ],
          "name": "stdout"
        }
      ]
    },
    {
      "cell_type": "code",
      "metadata": {
        "id": "z4ANylT5C1T7",
        "colab_type": "code",
        "colab": {
          "base_uri": "https://localhost:8080/",
          "height": 34
        },
        "outputId": "bf240ead-a921-4bb2-eb38-250d0a46afde"
      },
      "source": [
        "# Usando o dado de dentro de uma lista \n",
        "L1 = ['Teste 1', 10, 5, [10,11,12] ]\n",
        "L1 = L1[1] * L1[2]\n",
        "\n",
        "print(L1)"
      ],
      "execution_count": 11,
      "outputs": [
        {
          "output_type": "stream",
          "text": [
            "50\n"
          ],
          "name": "stdout"
        }
      ]
    },
    {
      "cell_type": "code",
      "metadata": {
        "id": "_1bA7VEjEHyx",
        "colab_type": "code",
        "colab": {
          "base_uri": "https://localhost:8080/",
          "height": 34
        },
        "outputId": "4fec82fb-a99f-47b6-c1be-18c245ad3036"
      },
      "source": [
        "# append(), adiciona um valor novo ao final da lista\n",
        "# somei dois indices da mesma lista\n",
        "L1 = ['Teste 1', 10, 5, [10,11,12] ]\n",
        "L1.append(L1[1] + L1[3][0])\n",
        "\n",
        "print(L1)"
      ],
      "execution_count": 12,
      "outputs": [
        {
          "output_type": "stream",
          "text": [
            "['Teste 1', 10, 5, [10, 11, 12], 20]\n"
          ],
          "name": "stdout"
        }
      ]
    },
    {
      "cell_type": "code",
      "metadata": {
        "id": "Cs2u9xmlEbRm",
        "colab_type": "code",
        "colab": {
          "base_uri": "https://localhost:8080/",
          "height": 34
        },
        "outputId": "0f1b557b-903f-483c-ee1c-4622cad5a734"
      },
      "source": [
        "# Imprimindo uma letra da lista\n",
        "L2 = ['Teste 1', 10, 5, [10,11,12] ]\n",
        "\n",
        "print(L2[0][2].upper()) # Letra s em maiúscula"
      ],
      "execution_count": 13,
      "outputs": [
        {
          "output_type": "stream",
          "text": [
            "S\n"
          ],
          "name": "stdout"
        }
      ]
    },
    {
      "cell_type": "code",
      "metadata": {
        "id": "wSoMsgWvFPRL",
        "colab_type": "code",
        "colab": {
          "base_uri": "https://localhost:8080/",
          "height": 52
        },
        "outputId": "87eee549-f21b-4969-fcd4-bd93c8f4055e"
      },
      "source": [
        "# Convertendo String para Int\n",
        "L2 = ['Teste 1', 10, 5, [10,11,12] ]\n",
        "X = int(L2[0][-1]) * L2[2]  # convertido\n",
        "X1 = L2[0][-1] * L2[2]      # não convertido\n",
        "\n",
        "print(X) \n",
        "print(X1)"
      ],
      "execution_count": 16,
      "outputs": [
        {
          "output_type": "stream",
          "text": [
            "5\n",
            "11111\n"
          ],
          "name": "stdout"
        }
      ]
    }
  ]
}