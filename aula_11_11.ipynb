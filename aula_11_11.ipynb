{
  "nbformat": 4,
  "nbformat_minor": 0,
  "metadata": {
    "colab": {
      "name": "aula_11_11.ipynb",
      "provenance": [],
      "authorship_tag": "ABX9TyNmBc/TtuWn9Ms8HIdKlYc3",
      "include_colab_link": true
    },
    "kernelspec": {
      "name": "python3",
      "display_name": "Python 3"
    }
  },
  "cells": [
    {
      "cell_type": "markdown",
      "metadata": {
        "id": "view-in-github",
        "colab_type": "text"
      },
      "source": [
        "<a href=\"https://colab.research.google.com/github/juliavaz/Python/blob/master/aula_11_11.ipynb\" target=\"_parent\"><img src=\"https://colab.research.google.com/assets/colab-badge.svg\" alt=\"Open In Colab\"/></a>"
      ]
    },
    {
      "cell_type": "code",
      "metadata": {
        "id": "-_ZwbOtBqFxN"
      },
      "source": [
        "# Crie uma lista com 10 números reais entre 0 e 10, com\n",
        "# 2 casas decimais.\n",
        "'''import statistics\n",
        "l1 = [3.62, 5.25, 5.97, 0.62, 9.07, 2.22, 3.18, 9.07, 3.59, 2.96]\n",
        "print(l1)\n",
        "Media_Simples = statistics.mean(l1)\n",
        "print('A média simples de l1 é', Media_Simples)\n",
        "Variancia = statistics.variance(l1)\n",
        "print('A variancia de l1 é', round(Variancia,2))\n",
        "Desv = statistics.stdev(l1)\n",
        "print('O Desvio Padrão de l1 é', round(Desv,2))\n",
        "CV = Desv/Media_Simples\n",
        "print('O Coeficiente de Variação de l1 é', round(CV,2))\n",
        "Moda = statistics.mode(l1)\n",
        "print('A Moda de l1 é', Moda)\n",
        "Mediana = statistics.median(l1)\n",
        "print('A Mediana de l1 é', Mediana)'''\n",
        "\n",
        "'''from scipy.stats.mstats import gmean\n",
        "l1 = [3.62, 5.25, 5.97, 0.62, 9.07, 2.22, 3.18, 9.07, 3.59, 2.96]\n",
        "Med_Geom = gmean(l1)\n",
        "print('A média geométrica de l1 é', round(Med_Geom,2))\n",
        "\n",
        "media = l1[0]\n",
        "for _ in range(1,len(l1)): # range(inicio, fim+1)\n",
        "  media = media*l1[_]\n",
        "media = media ** (1./10)\n",
        "print('A Média Geométrica na mão é:', round(media,2))'''\n",
        "\n",
        "import statistics\n",
        "l1 = [3.62, 5.25, 5.97, 0.62, 9.07, 2.22, 3.18, 9.07, 3.59, 2.96]\n",
        "Med_Harm = statistics.harmonic_mean(l1)\n",
        "print('A média harmonica de l1 é', round(Med_Harm,2))"
      ],
      "execution_count": null,
      "outputs": []
    }
  ]
}