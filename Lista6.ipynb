{
  "nbformat": 4,
  "nbformat_minor": 0,
  "metadata": {
    "colab": {
      "name": "Lista6.ipynb",
      "provenance": [],
      "authorship_tag": "ABX9TyP0Ryu/TAf+i3sRm+xLkxQG",
      "include_colab_link": true
    },
    "kernelspec": {
      "name": "python3",
      "display_name": "Python 3"
    }
  },
  "cells": [
    {
      "cell_type": "markdown",
      "metadata": {
        "id": "view-in-github",
        "colab_type": "text"
      },
      "source": [
        "<a href=\"https://colab.research.google.com/github/juliavaz/Python/blob/master/Lista6.ipynb\" target=\"_parent\"><img src=\"https://colab.research.google.com/assets/colab-badge.svg\" alt=\"Open In Colab\"/></a>"
      ]
    },
    {
      "cell_type": "code",
      "metadata": {
        "id": "oDc6nnRTYozJ"
      },
      "source": [
        "# Disciplina: Probabilidade e Estatística\n",
        "# Aluno: Júlia Vaz Gomes\n",
        "# Lista 6 - Exercicio 1\n"
      ],
      "execution_count": null,
      "outputs": []
    }
  ]
}