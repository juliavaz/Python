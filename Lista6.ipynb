{
  "nbformat": 4,
  "nbformat_minor": 0,
  "metadata": {
    "colab": {
      "name": "Lista6.ipynb",
      "provenance": [],
      "include_colab_link": true
    },
    "kernelspec": {
      "name": "python3",
      "display_name": "Python 3"
    }
  },
  "cells": [
    {
      "cell_type": "markdown",
      "metadata": {
        "id": "view-in-github",
        "colab_type": "text"
      },
      "source": [
        "<a href=\"https://colab.research.google.com/github/juliavaz/Python/blob/master/Lista6.ipynb\" target=\"_parent\"><img src=\"https://colab.research.google.com/assets/colab-badge.svg\" alt=\"Open In Colab\"/></a>"
      ]
    },
    {
      "cell_type": "code",
      "metadata": {
        "id": "oDc6nnRTYozJ",
        "outputId": "fcdfc57a-b9a3-49fb-e3c7-d477ceab506e",
        "colab": {
          "base_uri": "https://localhost:8080/"
        }
      },
      "source": [
        "# Disciplina: Probabilidade e Estatística\n",
        "# Aluno: Júlia Vaz Gomes\n",
        "# Lista 6 - Exercicio 1\n",
        "\n",
        "# importando biblioteca para facilitar no desenvolvimento\n",
        "import pandas as pd\n",
        "\n",
        "# lista com os dados de valores de aptidão, separados por listas de cada materia\n",
        "valoresMatematica = [60, 58, 73, 51, 54, 75, 48, 72, 75, 83, 62, 52] # matematica\n",
        "valoresMusica = [80, 62, 70, 83, 62, 92, 79, 88, 54, 82, 64, 69]     # musica\n",
        "\n",
        "data = {'Matematica': valoresMatematica, 'Musica': valoresMusica} \n",
        "df = pd.DataFrame(data,columns=['Matematica', 'Musica'])\n",
        "corrMatrix = df.corr()\n",
        "# dados impressos com os coeficientes de correlacao entre as materias\n",
        "print(corrMatrix)"
      ],
      "execution_count": 3,
      "outputs": [
        {
          "output_type": "stream",
          "text": [
            "            Matematica    Musica\n",
            "Matematica    1.000000  0.169146\n",
            "Musica        0.169146  1.000000\n"
          ],
          "name": "stdout"
        }
      ]
    }
  ]
}