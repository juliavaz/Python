{
  "nbformat": 4,
  "nbformat_minor": 0,
  "metadata": {
    "colab": {
      "name": "Lista6.ipynb",
      "provenance": [],
      "include_colab_link": true
    },
    "kernelspec": {
      "name": "python3",
      "display_name": "Python 3"
    }
  },
  "cells": [
    {
      "cell_type": "markdown",
      "metadata": {
        "id": "view-in-github",
        "colab_type": "text"
      },
      "source": [
        "<a href=\"https://colab.research.google.com/github/juliavaz/Python/blob/master/Lista6.ipynb\" target=\"_parent\"><img src=\"https://colab.research.google.com/assets/colab-badge.svg\" alt=\"Open In Colab\"/></a>"
      ]
    },
    {
      "cell_type": "code",
      "metadata": {
        "id": "oDc6nnRTYozJ",
        "colab": {
          "base_uri": "https://localhost:8080/"
        },
        "outputId": "1be9ef14-11c5-46c1-a33e-b5e4a1781f55"
      },
      "source": [
        "# Disciplina: Probabilidade e Estatística\n",
        "# Aluno: Júlia Vaz Gomes\n",
        "# Lista 6 - Exercicio 1\n",
        "\n",
        "# importando biblioteca para facilitar no desenvolvimento\n",
        "import pandas as pd\n",
        "\n",
        "# lista com os dados de valores de aptidão, separados por listas de cada materia\n",
        "valoresMatematica = [60, 58, 73, 51, 54, 75, 48, 72, 75, 83, 62, 52] # matematica\n",
        "valoresMusica = [80, 62, 70, 83, 62, 92, 79, 88, 54, 82, 64, 69]     # musica\n",
        "\n",
        "data = {'Matemática': valoresMatematica, 'Música': valoresMusica} \n",
        "df = pd.DataFrame(data,columns=['Matemática', 'Música'])\n",
        "coeficiente = df.corr()\n",
        "# dados impressos com os coeficientes de correlacao entre as materias\n",
        "print(coeficiente)"
      ],
      "execution_count": 6,
      "outputs": [
        {
          "output_type": "stream",
          "text": [
            "            Matemática    Música\n",
            "Matemática    1.000000  0.169146\n",
            "Música        0.169146  1.000000\n"
          ],
          "name": "stdout"
        }
      ]
    },
    {
      "cell_type": "code",
      "metadata": {
        "id": "w62lSsvsVdfV"
      },
      "source": [
        "# Disciplina: Probabilidade e Estatística\n",
        "# Aluno: Júlia Vaz Gomes\n",
        "# Lista 6 - Exercicio 2\n",
        "\n",
        "''' Resposta: \n",
        "  Para o valor de r abaixo de 0,3 como nesse caso, pode se dizer que a correlação é despresível, ou seja, os dados não estão relacionados de nenhuma forma\n",
        "'''"
      ],
      "execution_count": null,
      "outputs": []
    },
    {
      "cell_type": "code",
      "metadata": {
        "colab": {
          "base_uri": "https://localhost:8080/"
        },
        "id": "l_VKhjV9AGVz",
        "outputId": "eb3f9e10-af4f-4c91-8a1c-f1b31f1e84cf"
      },
      "source": [
        "# Disciplina: Probabilidade e Estatística\n",
        "# Aluno: Júlia Vaz Gomes\n",
        "# Lista 6 - Exercicio 3\n",
        "\n",
        "# importando biblioteca para facilitar os calculos\n",
        "import pandas as pd\n",
        "\n",
        "anos = [2,3,4,5,4,6,7,8,8,10]\n",
        "clientes = [48,50,56,52,43,60,62,58,64,72]\n",
        "\n",
        "dados = {'Anos de Serviço': anos, 'Nº de clientes': clientes} \n",
        "df = pd.DataFrame(dados,columns=['Anos de Serviço', 'Nº de clientes'])\n",
        "coeficiente = df.corr()\n",
        "\n",
        "print(coeficiente)"
      ],
      "execution_count": 5,
      "outputs": [
        {
          "output_type": "stream",
          "text": [
            "                 Anos de Serviço  Nº de clientes\n",
            "Anos de Serviço         1.000000        0.876795\n",
            "Nº de clientes          0.876795        1.000000\n"
          ],
          "name": "stdout"
        }
      ]
    },
    {
      "cell_type": "code",
      "metadata": {
        "id": "foiLl-6xXkmK",
        "outputId": "1b96a3f9-3455-4f0e-ea76-d8591e94e02f",
        "colab": {
          "base_uri": "https://localhost:8080/"
        }
      },
      "source": [
        "# Disciplina: Probabilidade e Estatística\n",
        "# Aluno: Júlia Vaz Gomes\n",
        "# Lista 6 - Exercicio 4\n",
        "\n",
        "# importando biblioteca para facilitar os calculos\n",
        "import pandas as pd\n",
        "\n",
        "x = [12,16,18,20,28,30,40,48,50,54]\n",
        "y = [7.2,7.4,7.0,6.5,6.6,6.7,6.0,5.6,6.0,5.5]\n",
        "\n",
        "dados = {'Renda Bruta Mensal': x, '% da Renda Bruta Anual': y} \n",
        "df = pd.DataFrame(dados,columns=['Renda Bruta Mensal', '% da Renda Bruta Anual'])\n",
        "coeficiente = df.corr()\n",
        "\n",
        "print(coeficiente)"
      ],
      "execution_count": 3,
      "outputs": [
        {
          "output_type": "stream",
          "text": [
            "                        Renda Bruta Mensal  % da Renda Bruta Anual\n",
            "Renda Bruta Mensal                1.000000               -0.940463\n",
            "% da Renda Bruta Anual           -0.940463                1.000000\n"
          ],
          "name": "stdout"
        }
      ]
    }
  ]
}