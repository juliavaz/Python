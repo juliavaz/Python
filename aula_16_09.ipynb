{
  "nbformat": 4,
  "nbformat_minor": 0,
  "metadata": {
    "colab": {
      "name": "aula_16_09.ipynb",
      "provenance": [],
      "authorship_tag": "ABX9TyPJDd087WTgNAEbiR4wK21K",
      "include_colab_link": true
    },
    "kernelspec": {
      "name": "python3",
      "display_name": "Python 3"
    }
  },
  "cells": [
    {
      "cell_type": "markdown",
      "metadata": {
        "id": "view-in-github",
        "colab_type": "text"
      },
      "source": [
        "<a href=\"https://colab.research.google.com/github/juliavaz/Python/blob/master/aula_16_09.ipynb\" target=\"_parent\"><img src=\"https://colab.research.google.com/assets/colab-badge.svg\" alt=\"Open In Colab\"/></a>"
      ]
    },
    {
      "cell_type": "code",
      "metadata": {
        "id": "_dumqdoyo-O5"
      },
      "source": [
        "'''MeuArquivo = open('TextoPadrão.txt')\n",
        "Caracteres = MeuArquivo.read()\n",
        "print(Caracteres)\n",
        "MeuArquivo.seek(0)\n",
        "Linhas = MeuArquivo.readlines()\n",
        "print(Linhas)\n",
        "MeuArquivo.close()'''\n",
        "\n",
        "'''Str1 = 'Carro Moto Tanque Avião'\n",
        "Arq1 = open('maquinas.txt', 'w') # Modo WRITE\n",
        "Arq1.write(Str1)\n",
        "Arq1.close()'''\n",
        "\n",
        "'''Arq1 = open('maquinas.txt', 'w') # Modo WRITE\n",
        "Arq1.close()'''\n",
        "\n",
        "# Abra o arquivo 'TextoPadrão.txt', insira como primeira linha\n",
        "# o texto 'Probabilidade e Estatistica IESB 2020', dê 2 quebras\n",
        "# de linha e salve o resultado em outro arquivo chamado 'Novo.txt'\n",
        "'''Arq1 = open('TextoPadrão.txt')\n",
        "Str1 = Arq1.read()\n",
        "Arq1.close()\n",
        "StrFinal = 'Probabilidade e Estatistica IESB 2020' + '\\n\\n' + Str1\n",
        "print(StrFinal)\n",
        "Arq2 = open('Novo.txt', 'w') # Modo WRITE\n",
        "Arq2.write(StrFinal)\n",
        "Arq2.close()'''\n",
        "\n",
        "'''Arq1 = open('bible-ok.txt')\n",
        "Str1 = Arq1.read()\n",
        "print(Str1.count('God '))\n",
        "print(Str1.count('God.'))\n",
        "print(Str1.count('faith'))\n",
        "print(Str1.count('Faith'))\n",
        "Str1 = Str1.upper()\n",
        "Arq2 = open('bible-ok-cap.txt', 'w') # Modo WRITE\n",
        "Arq2.write(Str1)\n",
        "Arq2.close()'''\n",
        "\n",
        "Arq1 = open('bible-ok.txt')\n",
        "Str1 = Arq1.read()\n",
        "print(Str1.index('God'))"
      ],
      "execution_count": null,
      "outputs": []
    }
  ]
}