{
  "nbformat": 4,
  "nbformat_minor": 0,
  "metadata": {
    "colab": {
      "name": "Lista4.ipynb",
      "provenance": [],
      "authorship_tag": "ABX9TyN2MRbEKY7pBmNXEnT498BI",
      "include_colab_link": true
    },
    "kernelspec": {
      "name": "python3",
      "display_name": "Python 3"
    }
  },
  "cells": [
    {
      "cell_type": "markdown",
      "metadata": {
        "id": "view-in-github",
        "colab_type": "text"
      },
      "source": [
        "<a href=\"https://colab.research.google.com/github/juliavaz/Python/blob/master/Lista4.ipynb\" target=\"_parent\"><img src=\"https://colab.research.google.com/assets/colab-badge.svg\" alt=\"Open In Colab\"/></a>"
      ]
    },
    {
      "cell_type": "code",
      "metadata": {
        "id": "xgOYcCfYjQjC"
      },
      "source": [
        "# Disciplina: Probabilidade e Estatística\n",
        "# Aluno: Júlia Vaz Gomes\n",
        "# Lista 4\n",
        "\n",
        "#1. Escreva um programa para ler o número de lados de um polígono regular e a medida do lado (em cm). Calcular e imprimir o seguinte: − Se o número de lados for igual a 3 escrever TRIÂNGULO e o valor da área − Se o número de lados for igual a 4 escrever QUADRADO e o valor da sua área. − Se o número de lados for igual a 5 escrever PENTÁGONO.\n",
        "#2. Acrescente as seguintes mensagens à solução do exercício anterior conforme o caso. − Caso o número de lados seja inferior a 3 escrever NÃO É UM POLÍGONO. − Caso o número de lados seja superior a 5 escrever POLÍGONO NÃO IDENTIFICADO.\n",
        "# entrada de dado dos lados \n",
        "'''lados = int(input(\"Digite o número de lados do seu polígono: \")) '''\n",
        "# entrada de dado da medida\n",
        "'''medida = float(input(\"Digite a medida do lado: \"))  '''\n",
        "\n",
        "# validação da regra pedida no exercicio 1 e 2\n",
        "'''if lados < 3:\n",
        "  print(\"NÃO É UM POLÍGONO\")\n",
        "elif lados == 3:\n",
        "  area = medida ** 2 * 3 **(1/2) /4 \n",
        "  print(\"A área do triângulo é: %.2fcm²\"%area)\n",
        "elif lados == 4:\n",
        "  area = medida ** 2 \n",
        "  print(\"A área do quadrado é: %.2fcm²\"%area)\n",
        "elif lados == 5:\n",
        "  print(\"A figura é um pentagono\")\n",
        "elif lados > 5:\n",
        "  print(\"POLÍGONO NÃO IDENTIFICADO.\")'''\n",
        "\n",
        "#3. Escreva um programa para ler 3 valores inteiros e escrever o maior deles. Considere que o usuário não informará valores iguais.\n",
        "# entrada de dado dos valores inteiros\n",
        "'''valor1 = int(input(\"Digite o primeiro valor: \"))\n",
        "valor2 = int(input(\"Digite o segundo valor: \"))\n",
        "valor3 = int(input(\"Digite o terceiro valor: \"))\n",
        "\n",
        "#criando uma lista com os valores digitados pelo usuario\n",
        "maior = [valor1, valor2, valor3]\n",
        "\n",
        "# resultado do exercício usando uma lib\n",
        "print(\"Maior número: \", max(maior))'''\n",
        "\n",
        "#4. Escreva um programa que leia as medidas dos lados de um triângulo e escreva se ele é Equilátero, Isósceles ou Escaleno. Sendo que: − Triângulo Equilátero: possui os 3 lados iguais. − Triângulo Isóscele: possui 2 lados iguais. − Triângulo Escaleno: possui 3 lados diferentes.\n",
        "'''print(\"Insira os lados do triângulo\")\n",
        "lado1 = float(input(\"Primeiro lado: \"))\n",
        "lado2 = float(input(\"Segundo lado: \"))\n",
        "lado3 = float(input(\"Terceiro lado: \"))\n",
        "\n",
        "if (lado1 == lado2 == lado3):  \n",
        "  print(\"Triângulo equilátero com os lados de medida: \",lado1)\n",
        "\n",
        "if (lado1 == lado2 or lado2 == lado3 or lado1 == lado3):\n",
        "  print(\"Triângulo isóscele com 2 lados de medida iguais\")\n",
        "\n",
        "if (lado1 != lado2 != lado3):\n",
        "  print(\"Triângulo escaleno com todos os lados de medida diferentes\")'''\n",
        "\n",
        "#5. Escreva um programa que leia o valor de 3 ângulos de um triângulo e escreva se o triângulo é Actângulo, Retângulo ou Obtusângulo. Sendo que: − Triângulo Retângulo: possui um ângulo reto. (igual a 90º) − Triângulo Obtusângulo: possui um ângulo obtuso. (maior que90º) − Triângulo Acutângulo: possui três ângulos agudos. (menor que 90º)\n",
        "'''print(\"Insira os 3 ângulos do triângulo\")\n",
        "angulo1 = float(input(\"Primeiro ângulo: \"))\n",
        "angulo2 = float(input(\"Segundo ângulo: \"))\n",
        "angulo3 = float(input(\"Terceiro ângulo: \"))\n",
        "\n",
        "angulos = [angulo1, angulo2, angulo3] \n",
        "\n",
        "if(angulos[0] == 90 or angulos[1] == 90 or angulos[2] == 90):\n",
        "  print(\"Triângulo Retânguloo\")\n",
        "elif(angulos[0] > 90 or angulos[1] > 90 or angulos[2] > 90):\n",
        "  print(\"Triângulo Obtusângulo\")\n",
        "else:\n",
        "  print(\"Triângulo Acutângulo\")'''\n",
        "\n",
        "#6. Faça um programa para ler um número inteiro e imprimir todos os números de 0 até o número lido.\n",
        "\n",
        "#7. Solicitar um número entre 1 e 4. Se a pessoas digitar um número diferente, mostrar a mensagem \"entrada inválida\" e solicitar o número novamente. Se digitar correto mostrar o número digitado.\n",
        "\n",
        "#8. Fazer um programa que receba vários valores inteiros no teclado (um valor a cada iteração) e determine o maior dos colocados desde o inicio do programa. A condição de término do programa é quando o usuário digitar zero.\n",
        "\n",
        "#9. Escreva um programa Python que leia um número inteiro positivo de 4 dígitos, calcule e mostre a sua decomposição em unidade, dezena, centena e milhar: Exemplo: 8531; unidade = 1 dezena = 3 centena = 5 5 milhar = 8"
      ],
      "execution_count": null,
      "outputs": []
    }
  ]
}