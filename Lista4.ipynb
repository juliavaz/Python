{
  "nbformat": 4,
  "nbformat_minor": 0,
  "metadata": {
    "colab": {
      "name": "Lista4.ipynb",
      "provenance": [],
      "authorship_tag": "ABX9TyNg5XNvWSbqRhgDrGLniy9u",
      "include_colab_link": true
    },
    "kernelspec": {
      "name": "python3",
      "display_name": "Python 3"
    }
  },
  "cells": [
    {
      "cell_type": "markdown",
      "metadata": {
        "id": "view-in-github",
        "colab_type": "text"
      },
      "source": [
        "<a href=\"https://colab.research.google.com/github/juliavaz/Python/blob/master/Lista4.ipynb\" target=\"_parent\"><img src=\"https://colab.research.google.com/assets/colab-badge.svg\" alt=\"Open In Colab\"/></a>"
      ]
    },
    {
      "cell_type": "code",
      "metadata": {
        "id": "xgOYcCfYjQjC"
      },
      "source": [
        "# Disciplina: Probabilidade e Estatística\n",
        "# Aluno: Júlia Vaz Gomes\n",
        "# Lista 4 - Exercicio 1 e 2\n",
        "'''\n",
        "1. Escreva um programa para ler o número de lados de um polígono regular e a medida do lado (em cm). Calcular e imprimir o seguinte: − Se o número de lados for igual a 3 escrever TRIÂNGULO e o valor da área − Se o número de lados for igual a 4 escrever QUADRADO e o valor da sua área. − Se o número de lados for igual a 5 escrever PENTÁGONO.\n",
        "2. Acrescente as seguintes mensagens à solução do exercício anterior conforme o caso. − Caso o número de lados seja inferior a 3 escrever NÃO É UM POLÍGONO. − Caso o número de lados seja superior a 5 escrever POLÍGONO NÃO IDENTIFICADO.\n",
        "'''\n",
        "\n",
        "lados = float(input(\"Digite o número de lados do seu polígono: \")) # entrada de dado dos lados \n",
        "medida = float(input(\"Digite a medida do lado: \")) # entrada de dado da medida\n",
        "\n",
        "# if executando a validação da regra pedida no exercicio 1 e 2\n",
        "if lados < 3:  # se o lado for menor 3 o triangulo não é um poligono\n",
        "  print(\"NÃO É UM POLÍGONO\") \n",
        "elif lados == 3: # se o lado for igual a 3 irá calcular a area do triangulo\n",
        "  area = medida ** 2 * 3 **(1/2) /4 \n",
        "  print(\"A área do triângulo é: %.2fcm²\"%area)\n",
        "elif lados == 4: # se o lado for igual a 4 irá calcular a area do quadrado\n",
        "  area = medida ** 2 \n",
        "  print(\"A área do quadrado é: %.2fcm²\"%area)\n",
        "elif lados == 5: # se o lado for igual a 5 irá imprimir que a figura é um pentagono\n",
        "  print(\"A figura é um pentagono\")\n",
        "elif lados > 5: # se o lado for maior que 5 irá imprimir que o polígono não foi identificado\n",
        "  print(\"POLÍGONO NÃO IDENTIFICADO.\")\n"
      ],
      "execution_count": null,
      "outputs": []
    },
    {
      "cell_type": "code",
      "metadata": {
        "id": "AwWYsLBX56Of"
      },
      "source": [
        "# Disciplina: Probabilidade e Estatística\n",
        "# Aluno: Júlia Vaz Gomes\n",
        "# Lista 4 - Exercicio 3\n",
        "'''3. Escreva um programa para ler 3 valores inteiros e escrever o maior deles. Considere que o usuário não informará valores iguais.'''\n",
        "\n",
        "print(\"Insira 3 valores inteiros\")               # mensagem para informar a ação do usuário\n",
        "valor1 = int(input(\"Digite o primeiro valor: \")) # inserindo o primeiro valor inteiro\n",
        "valor2 = int(input(\"Digite o segundo valor: \"))  # inserindo o segundo valor inteiro\n",
        "valor3 = int(input(\"Digite o terceiro valor: \")) # inserindo o terceiro valor inteiro\n",
        "\n",
        "#criando uma lista com os valores digitados pelo usuario\n",
        "maior = [valor1, valor2, valor3]\n",
        "\n",
        "# imprimindo o maior número entre os digitados utilizando uma função existente como tratativa\n",
        "print(\"Maior número: \", max(maior))"
      ],
      "execution_count": null,
      "outputs": []
    },
    {
      "cell_type": "code",
      "metadata": {
        "id": "pYkAmlxY6KJw"
      },
      "source": [
        "# Disciplina: Probabilidade e Estatística\n",
        "# Aluno: Júlia Vaz Gomes\n",
        "# Lista 4 - Exercicio 4\n",
        "'''4. Escreva um programa que leia as medidas dos lados de um triângulo e escreva se ele é Equilátero, Isósceles ou Escaleno. Sendo que: − Triângulo Equilátero: possui os 3 lados iguais. − Triângulo Isóscele: possui 2 lados iguais. − Triângulo Escaleno: possui 3 lados diferentes.'''\n",
        "\n",
        "print(\"Insira os lados do triângulo\")    # mensagem para informar a ação do usuário\n",
        "lado1 = float(input(\"Primeiro lado: \"))  # inserindo o primeiro valor\n",
        "lado2 = float(input(\"Segundo lado: \"))   # inserindo o segundo valor\n",
        "lado3 = float(input(\"Terceiro lado: \"))  # inserindo o terceiro valor\n",
        "\n",
        "if (lado1 == lado2 == lado3):  # verifica se todos os lados inseridos pelo usuário são iguais \n",
        "  print(\"Triângulo equilátero com os lados de medida: \",lado1)  # imprime resultado\n",
        "elif (lado1 == lado2 or lado2 == lado3 or lado1 == lado3):  # verifica se pelo menos dois lados inseridos pelo usuário são iguais\n",
        "  print(\"Triângulo isóscele com 2 lados de medida iguais\")  # imprime resultado\n",
        "elif (lado1 != lado2 != lado3):  # verifica nenhum lado inserido é igual \n",
        "  print(\"Triângulo escaleno com todos os lados de medida diferentes\") # imprime resultado"
      ],
      "execution_count": null,
      "outputs": []
    },
    {
      "cell_type": "code",
      "metadata": {
        "id": "hoIbPYiK6PoJ"
      },
      "source": [
        "# Disciplina: Probabilidade e Estatística\n",
        "# Aluno: Júlia Vaz Gomes\n",
        "# Lista 4 - Exercicio 5\n",
        "'''5. Escreva um programa que leia o valor de 3 ângulos de um triângulo e escreva se o triângulo é Actângulo, Retângulo ou Obtusângulo. Sendo que: − Triângulo Retângulo: possui um ângulo reto. (igual a 90º) − Triângulo Obtusângulo: possui um ângulo obtuso. (maior que90º) − Triângulo Acutângulo: possui três ângulos agudos. (menor que 90º)'''\n",
        "print(\"Insira os 3 ângulos do triângulo\")    # mensagem para informar a ação do usuário \n",
        "angulo1 = float(input(\"Primeiro ângulo: \"))  # inserindo o dado a variável angulo1\n",
        "angulo2 = float(input(\"Segundo ângulo: \"))   # inserindo o dado a variável angulo2\n",
        "angulo3 = float(input(\"Terceiro ângulo: \"))  # inserindo o dado a variável angulo3\n",
        "\n",
        "angulos = [angulo1, angulo2, angulo3]  # atribuindo as três variáveis anteriores a uma lista \n",
        "\n",
        "# se entrar na condição irá executar as regras impostas, senão irá imprimir a mensagem de \"Triângulo Acutângulo\" \n",
        "if(angulos[0] == 90 or angulos[1] == 90 or angulos[2] == 90):  # verificando se algum item da lista é igual a 90\n",
        "  print(\"Triângulo Retânguloo\")   # imprime resultado\n",
        "elif(angulos[0] > 90 or angulos[1] > 90 or angulos[2] > 90):  # verificando se algum item da lista é maior que 90\n",
        "  print(\"Triângulo Obtusângulo\")  # imprime resultado\n",
        "else:\n",
        "  print(\"Triângulo Acutângulo\")"
      ],
      "execution_count": null,
      "outputs": []
    },
    {
      "cell_type": "code",
      "metadata": {
        "id": "y0Ft7Rx_6UUG"
      },
      "source": [
        "# Disciplina: Probabilidade e Estatística\n",
        "# Aluno: Júlia Vaz Gomes\n",
        "# Lista 4 - Exercicio 6\n",
        "'''6. Faça um programa para ler um número inteiro e imprimir todos os números de 0 até o número lido.'''\n",
        "print(\"Insira um número inteiro\")           # mensagem para informar a ação do usuário \n",
        "numero = int(input(\"Digite um número: \"))   # altribuindo o valor digitado na variável numero\n",
        "i = 0   # instanciando a variável i\n",
        "while i <= numero:   # enquanto o valor da variável i for menor que o numero inserido na linha 6 \n",
        "  print(i)  # imprime a variavel i\n",
        "  i += 1    # soma +1 no valor anterior da variável"
      ],
      "execution_count": null,
      "outputs": []
    },
    {
      "cell_type": "code",
      "metadata": {
        "id": "RrACsPn36X-1"
      },
      "source": [
        "# Disciplina: Probabilidade e Estatística\n",
        "# Aluno: Júlia Vaz Gomes\n",
        "# Lista 4 - Exercicio 7\n",
        "'''7. Solicitar um número entre 1 e 4. Se a pessoas digitar um número diferente, mostrar a mensagem \"entrada inválida\" e solicitar o número novamente. Se digitar correto mostrar o número digitado.'''\n",
        "print(\"Para parar o loop insira um número entre 1 e 4\")  # mensagem para informar a ação do usuário \n",
        "while True:   # enquanto a condição for verdadeira executa o código abaixo\n",
        "  numero = int(input(\"Digite um número: \"))   # inserindo valor na variável numero\n",
        "  if (numero > 1 and numero < 4):   # se o numero inserido estiver entre 1 e 4 o programa será encerrado\n",
        "    break   # palavra-chave de parada\n",
        "\n",
        "print(\"Saindo do loop..\")  # mensagem de aviso que saiu do programa"
      ],
      "execution_count": null,
      "outputs": []
    },
    {
      "cell_type": "code",
      "metadata": {
        "id": "XyY-2BG36bcG"
      },
      "source": [
        "# Disciplina: Probabilidade e Estatística\n",
        "# Aluno: Júlia Vaz Gomes\n",
        "# Lista 4 - Exercicio 8\n",
        "'''8. Fazer um programa que receba vários valores inteiros no teclado (um valor a cada iteração) e determine o maior dos colocados desde o inicio do programa. A condição de término do programa é quando o usuário digitar zero.'''\n",
        "print(\"Para encerrar o programa insira um número 0\")   # mensagem para avisar como encerrar o programa a seguir \n",
        "numero = 1 # inicializando a variável para ser utilizada como parametro da condição abaixo\n",
        "while numero != 0:  # enquanto numero for diferente de 0 fará o código a seguir \n",
        "  lista = []        # inicializando uma lista vazia \n",
        "  lista.append(numero)   # adicionando o valor inserido na variável numero no último lugar da lista \n",
        "  numero = int(input(\"Digite um número: \"))   # solicita o numero ao usuário\n",
        "  \n",
        "print(\"Maior número digitado: \", max(lista)) # imprimindo o resultado e já inserindo o maior numero contido na lista\n",
        "print(\"Saindo do loop..\")   # mensgem de saída do script "
      ],
      "execution_count": null,
      "outputs": []
    },
    {
      "cell_type": "code",
      "metadata": {
        "id": "ION4Kumv6gg7"
      },
      "source": [
        "# Disciplina: Probabilidade e Estatística\n",
        "# Aluno: Júlia Vaz Gomes\n",
        "# Lista 4 - Exercicio 9\n",
        "'''9. Escreva um programa Python que leia um número inteiro positivo de 4 dígitos, calcule e mostre a sua decomposição em unidade, dezena, centena e milhar: Exemplo: 8531; unidade = 1 dezena = 3 centena = 5 5 milhar = 8'''\n",
        "print(\"Insira um número inteiro de 4 digitos para decompor em unidade, dezena, centena e milhar\")   # mensagem para avisar como será o programa\n",
        "while True:  # enquanto a condição do if não for verdadeira continuará executando o código\n",
        "  num = int(input('Insira um número de 4 digitos: '))   # solicitando o numero para o usuário e guardando na variável num\n",
        "  if (num >= 1000 and num <= 9999):   # validando se o numero inserindo pelo usuário esta com 4 digitos\n",
        "    num = str(num)   # convertendo o numero em string para poder fazer a decomposição\n",
        "    print(\"unidade = \", num[-1])  # imprimindo a unidade do numero inicial\n",
        "    print(\"dezena = \",num[-2])    # imprimindo a dezena do numero inicial\n",
        "    print(\"centena = \",num[-3])   # imprimindo a centena do numero inicial\n",
        "    print(\"milhar = \",num[-4])    # imprimindo o milhar do numero inicial\n",
        "    break    # condição de parada\n",
        "print(\"Você digitou um número com 4 digitos, encerrando o programa..\")   # mensagem de saída do programa"
      ],
      "execution_count": null,
      "outputs": []
    }
  ]
}