{
  "nbformat": 4,
  "nbformat_minor": 0,
  "metadata": {
    "colab": {
      "name": "Lista4.ipynb",
      "provenance": [],
      "authorship_tag": "ABX9TyMI7KwnQhdIz1Ac5N77uFtB",
      "include_colab_link": true
    },
    "kernelspec": {
      "name": "python3",
      "display_name": "Python 3"
    }
  },
  "cells": [
    {
      "cell_type": "markdown",
      "metadata": {
        "id": "view-in-github",
        "colab_type": "text"
      },
      "source": [
        "<a href=\"https://colab.research.google.com/github/juliavaz/Python/blob/master/Lista4.ipynb\" target=\"_parent\"><img src=\"https://colab.research.google.com/assets/colab-badge.svg\" alt=\"Open In Colab\"/></a>"
      ]
    },
    {
      "cell_type": "code",
      "metadata": {
        "id": "xgOYcCfYjQjC"
      },
      "source": [
        "# Disciplina: Probabilidade e Estatística\n",
        "# Aluno: Júlia Vaz Gomes\n",
        "# Lista 4\n",
        "\n",
        "#1. Escreva um programa para ler o número de lados de um polígono regular e a medida do lado (em cm). Calcular e imprimir o seguinte: − Se o número de lados for igual a 3 escrever TRIÂNGULO e o valor da área − Se o número de lados for igual a 4 escrever QUADRADO e o valor da sua área. − Se o número de lados for igual a 5 escrever PENTÁGONO.\n",
        "#2. Acrescente as seguintes mensagens à solução do exercício anterior conforme o caso. − Caso o número de lados seja inferior a 3 escrever NÃO É UM POLÍGONO. − Caso o número de lados seja superior a 5 escrever POLÍGONO NÃO IDENTIFICADO.\n",
        "# entrada de dado dos lados \n",
        "'''lados = int(input(\"Digite o número de lados do seu polígono: \")) '''\n",
        "# entrada de dado da medida\n",
        "'''medida = float(input(\"Digite a medida do lado: \"))  '''\n",
        "\n",
        "# validação da regra pedida no exercicio 1 e 2\n",
        "'''if lados < 3:\n",
        "  print(\"NÃO É UM POLÍGONO\")\n",
        "elif lados == 3:\n",
        "  area = medida ** 2 * 3 **(1/2) /4 \n",
        "  print(\"A área do triângulo é: %.2fcm²\"%area)\n",
        "elif lados == 4:\n",
        "  area = medida ** 2 \n",
        "  print(\"A área do quadrado é: %.2fcm²\"%area)\n",
        "elif lados == 5:\n",
        "  print(\"A figura é um pentagono\")\n",
        "elif lados > 5:\n",
        "  print(\"POLÍGONO NÃO IDENTIFICADO.\")'''\n",
        "\n",
        "#3. Escreva um programa para ler 3 valores inteiros e escrever o maior deles. Considere que o usuário não informará valores iguais.\n",
        "# entrada de dado dos valores inteiros\n",
        "'''valor1 = int(input(\"Digite o primeiro valor: \"))\n",
        "valor2 = int(input(\"Digite o segundo valor: \"))\n",
        "valor3 = int(input(\"Digite o terceiro valor: \"))\n",
        "# verificando se o segundo valor é menor que o primeiro\n",
        "if (valor1 < valor2):\n",
        "  maior = valor2\n",
        "\n",
        "# verificando se o terceiro valor é menor que o primeiro\n",
        "if (valor1 < valor3):\n",
        "  maior = valor3\n",
        "\n",
        "# resultado do exercício\n",
        "print(\"Maior número: \", maior)'''\n",
        "\n",
        "#4. Escreva um programa que leia as medidas dos lados de um triângulo e escreva se ele é Equilátero, Isósceles ou Escaleno. Sendo que: − Triângulo Equilátero: possui os 3 lados iguais. − Triângulo Isóscele: possui 2 lados iguais. − Triângulo Escaleno: possui 3 lados diferentes.\n",
        "\n",
        "#5. Escreva um programa que leia o valor de 3 ângulos de um triângulo e escreva se o triângulo é Actângulo, Retângulo ou Obtusângulo. Sendo que: − Triângulo Retângulo: possui um ângulo reto. (igual a 90º) − Triângulo Obtusângulo: possui um ângulo obtuso. (maior que90º) − Triângulo Acutângulo: possui três ângulos agudos. (menor que 90º)\n",
        "\n",
        "#6. Faça um programa para ler um número inteiro e imprimir todos os números de 0 até o número lido.\n",
        "\n",
        "#7. Solicitar um número entre 1 e 4. Se a pessoas digitar um número diferente, mostrar a mensagem \"entrada inválida\" e solicitar o número novamente. Se digitar correto mostrar o número digitado.\n",
        "\n",
        "#8. Fazer um programa que receba vários valores inteiros no teclado (um valor a cada iteração) e determine o maior dos colocados desde o inicio do programa. A condição de término do programa é quando o usuário digitar zero.\n",
        "\n",
        "#9. Escreva um programa Python que leia um número inteiro positivo de 4 dígitos, calcule e mostre a sua decomposição em unidade, dezena, centena e milhar: Exemplo: 8531; unidade = 1 dezena = 3 centena = 5 5 milhar = 8"
      ],
      "execution_count": null,
      "outputs": []
    }
  ]
}