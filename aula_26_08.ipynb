{
  "nbformat": 4,
  "nbformat_minor": 0,
  "metadata": {
    "colab": {
      "name": "aula-26-08.ipynb",
      "provenance": [],
      "authorship_tag": "ABX9TyOip1d9hLlTTKcR8ig8pkD3",
      "include_colab_link": true
    },
    "kernelspec": {
      "name": "python3",
      "display_name": "Python 3"
    }
  },
  "cells": [
    {
      "cell_type": "markdown",
      "metadata": {
        "id": "view-in-github",
        "colab_type": "text"
      },
      "source": [
        "<a href=\"https://colab.research.google.com/github/juliavaz/Python/blob/master/aula_26_08.ipynb\" target=\"_parent\"><img src=\"https://colab.research.google.com/assets/colab-badge.svg\" alt=\"Open In Colab\"/></a>"
      ]
    },
    {
      "cell_type": "code",
      "metadata": {
        "id": "wiGoxvRz9TxT",
        "colab_type": "code",
        "colab": {
          "base_uri": "https://localhost:8080/",
          "height": 469
        },
        "outputId": "f4f5816e-4b19-4236-fda0-7b9216b07ea8"
      },
      "source": [
        "'''  Scripts criados na aula sobre variáveis, operadores aritméticos, variáveis dinâmica, listas '''\n",
        "\n",
        "# divisão da parte inteira\n",
        "x = 30 // 12\n",
        "print(x)\n",
        "\n",
        "# módulo\n",
        "x = 10 % 5\n",
        "print(x)\n",
        "\n",
        "# tipo da variável\n",
        "var1 = \"oi\"\n",
        "var2 = 20\n",
        "var3 = 10/9\n",
        "var4 = True\n",
        "\n",
        "print('')\n",
        "print( type(var1))\n",
        "print( type(var2))\n",
        "print( type(var3))\n",
        "print( type(var4))\n",
        "\n",
        "# se concateca float com , se quiser usar o + tem q converter para String\n",
        "nota = 10 * (0.3+0.07*0.80)\n",
        "print('\\nNota do quizizz', nota)\n",
        "\n",
        "# contando os caracteres de uma String\n",
        "frase = 'oi, boa noite'\n",
        "print('A frase \"oi, boa noite\" tem : ',len(frase), ' caracteres')\n",
        "print('')\n",
        "\n",
        "# inicializacao | parada | \n",
        "# [3::3] -> pular de 3 em 3 caracteres ate o final da string\n",
        "frase = 'fajsfjiawj9323rm@34afe'\n",
        "print(frase[3::3])\n",
        "print('')\n",
        "\n",
        "# manipulação de string\n",
        "# nao se pode modificar, somente incrementar com uma manipulação externa (criando nova variável)\n",
        "txt1 = 'Julia'\n",
        "txt2 = txt1[:-1] + 'o'\n",
        "print(txt2)\n",
        "print('')\n",
        "\n",
        "# inteiro * string \n",
        "# repetindo palavras\n",
        "palavra = 'oi '\n",
        "repeticao = 3*palavra\n",
        "print(repeticao)\n",
        "print('')\n",
        "\n",
        "# separar as palavras por espaços em branco, criando um objeto começando da posição [0]\n",
        "frase = 'Quantas palavras será que tem nessa frase ?'\n",
        "print(frase.split())\n",
        "# contando numero de caracteres\n",
        "print(len(frase.split()))\n",
        "# engolindo as letras A e divide a palavra onde é \"cortada\"\n",
        "print(frase.split('a'))\n",
        "# saber quantas letras tem em um texto\n",
        "print(len(frase.split('a'))-1)\n",
        "print('')\n",
        "\n",
        "# imprimir uma sequencia de informações em ordem especifica\n",
        "carros = 'Meus carros são: {0}, {2}, {0}, {4}, {0}'\n",
        "carro0 = 'ka'\n",
        "carro1 = 'gol'\n",
        "carro2 = 'argo'\n",
        "carro3 = 'bravo'\n",
        "carro4 = 'virtus'\n",
        "print( carros.format(carro0, carro1, carro2, carro3, carro4 ) )\n",
        "print('')\n",
        "\n",
        "# listas!\n",
        "lista1 = [4, 'IESB', 11.4, False]\n",
        "print(lista1)\n",
        "print(len(lista1))\n",
        "\n"
      ],
      "execution_count": 46,
      "outputs": [
        {
          "output_type": "stream",
          "text": [
            "2\n",
            "0\n",
            "\n",
            "<class 'str'>\n",
            "<class 'int'>\n",
            "<class 'float'>\n",
            "<class 'bool'>\n",
            "\n",
            "Nota do quizizz 3.5599999999999996\n",
            "A frase \"oi, boa noite\" tem :  13  caracteres\n",
            "\n",
            "sij2m4e\n",
            "\n",
            "Julio\n",
            "\n",
            "oi oi oi \n",
            "\n",
            "['Quantas', 'palavras', 'será', 'que', 'tem', 'nessa', 'frase', '?']\n",
            "8\n",
            "['Qu', 'nt', 's p', 'l', 'vr', 's será que tem ness', ' fr', 'se ?']\n",
            "7\n",
            "\n",
            "Meus carros são: ka, argo, ka, virtus, ka\n",
            "\n",
            "[4, 'IESB', 11.4, False]\n",
            "4\n"
          ],
          "name": "stdout"
        }
      ]
    },
    {
      "cell_type": "markdown",
      "metadata": {
        "id": "enqPW1nqBiun",
        "colab_type": "text"
      },
      "source": [
        ""
      ]
    }
  ]
}