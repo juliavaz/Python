{
  "nbformat": 4,
  "nbformat_minor": 0,
  "metadata": {
    "colab": {
      "name": "aula-26-08.ipynb",
      "provenance": [],
      "authorship_tag": "ABX9TyP1uK79wBs2D0quSlIhagBB",
      "include_colab_link": true
    },
    "kernelspec": {
      "name": "python3",
      "display_name": "Python 3"
    }
  },
  "cells": [
    {
      "cell_type": "markdown",
      "metadata": {
        "id": "view-in-github",
        "colab_type": "text"
      },
      "source": [
        "<a href=\"https://colab.research.google.com/github/juliavaz/Python/blob/master/aula_26_08.ipynb\" target=\"_parent\"><img src=\"https://colab.research.google.com/assets/colab-badge.svg\" alt=\"Open In Colab\"/></a>"
      ]
    },
    {
      "cell_type": "code",
      "metadata": {
        "id": "wiGoxvRz9TxT",
        "colab_type": "code",
        "colab": {
          "base_uri": "https://localhost:8080/",
          "height": 156
        },
        "outputId": "61e2386b-139f-49eb-aed7-52c076d05098"
      },
      "source": [
        "''' comentário em várias linhas'''\n",
        "\n",
        "# divisão da parte inteira\n",
        "x = 30 // 12\n",
        "print(x)\n",
        "\n",
        "# módulo\n",
        "x = 10 % 5\n",
        "print(x)\n",
        "\n",
        "# tipo da variável\n",
        "var1 = \"oi\"\n",
        "var2 = 20\n",
        "var3 = 10/9\n",
        "print('')\n",
        "print( type(var1))\n",
        "print( type(var2))\n",
        "print( type(var3))\n",
        "\n",
        "# se concateca float com , se quiser usar o + tem q converter para String\n",
        "nota = 10 * (0.3+0.07*0.80)\n",
        "print('\\nNota do quizizz', nota)\n",
        "\n",
        "\n"
      ],
      "execution_count": 19,
      "outputs": [
        {
          "output_type": "stream",
          "text": [
            "2\n",
            "0\n",
            "\n",
            "<class 'str'>\n",
            "<class 'int'>\n",
            "<class 'float'>\n",
            "\n",
            "Nota do quizizz 3.5599999999999996\n"
          ],
          "name": "stdout"
        }
      ]
    },
    {
      "cell_type": "markdown",
      "metadata": {
        "id": "enqPW1nqBiun",
        "colab_type": "text"
      },
      "source": [
        ""
      ]
    }
  ]
}